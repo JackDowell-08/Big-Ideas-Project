{
 "cells": [
  {
   "cell_type": "code",
   "execution_count": 3,
   "id": "eb7a6bdc-b079-4141-8ca9-6916535c6ee9",
   "metadata": {},
   "outputs": [
    {
     "name": "stdin",
     "output_type": "stream",
     "text": [
      "Enter your first name: Jack\n",
      "Enter you last name: Dowell\n"
     ]
    },
    {
     "name": "stdout",
     "output_type": "stream",
     "text": [
      "J. D. :These are your initials.\n"
     ]
    }
   ],
   "source": [
    "first = input(\"Enter your first name:\")\n",
    "last = input(\"Enter you last name:\")\n",
    "initials = first[0] +\". \" + last[0] + \".\"\n",
    "print(initials,  \":These are your initials.\") "
   ]
  },
  {
   "cell_type": "code",
   "execution_count": null,
   "id": "b9c382cf-a3df-41b1-a839-7d5ed54ef71c",
   "metadata": {},
   "outputs": [],
   "source": []
  }
 ],
 "metadata": {
  "kernelspec": {
   "display_name": "Python 3 (ipykernel)",
   "language": "python",
   "name": "python3"
  },
  "language_info": {
   "codemirror_mode": {
    "name": "ipython",
    "version": 3
   },
   "file_extension": ".py",
   "mimetype": "text/x-python",
   "name": "python",
   "nbconvert_exporter": "python",
   "pygments_lexer": "ipython3",
   "version": "3.12.4"
  }
 },
 "nbformat": 4,
 "nbformat_minor": 5
}
